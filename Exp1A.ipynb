{
  "nbformat": 4,
  "nbformat_minor": 0,
  "metadata": {
    "colab": {
      "provenance": [],
      "authorship_tag": "ABX9TyPObwazNJTikxw1IyJSRXi1",
      "include_colab_link": true
    },
    "kernelspec": {
      "name": "python3",
      "display_name": "Python 3"
    },
    "language_info": {
      "name": "python"
    }
  },
  "cells": [
    {
      "cell_type": "markdown",
      "metadata": {
        "id": "view-in-github",
        "colab_type": "text"
      },
      "source": [
        "<a href=\"https://colab.research.google.com/github/chandan-m-chandu/Basic-Machine-Learning-Projects-/blob/main/Exp1A.ipynb\" target=\"_parent\"><img src=\"https://colab.research.google.com/assets/colab-badge.svg\" alt=\"Open In Colab\"/></a>"
      ]
    },
    {
      "cell_type": "code",
      "execution_count": null,
      "metadata": {
        "colab": {
          "base_uri": "https://localhost:8080/"
        },
        "id": "tncq5TrTZckg",
        "outputId": "1934c4bb-7e12-4fcd-92d4-abdefc74ba75"
      },
      "outputs": [
        {
          "output_type": "stream",
          "name": "stdout",
          "text": [
            "THIS IS THE PROGRAM TO ACCESS IRIS DATASET\n",
            " To print the description of Iris Dataset\n",
            ".. _iris_dataset:\n",
            "\n",
            "Iris plants dataset\n",
            "--------------------\n",
            "\n",
            "**Data Set Characteristics:**\n",
            "\n",
            ":Number of Instances: 150 (50 in each of three classes)\n",
            ":Number of Attributes: 4 numeric, predictive attributes and the class\n",
            ":Attribute Information:\n",
            "    - sepal length in cm\n",
            "    - sepal width in cm\n",
            "    - petal length in cm\n",
            "    - petal width in cm\n",
            "    - class:\n",
            "            - Iris-Setosa\n",
            "            - Iris-Versicolour\n",
            "            - Iris-Virginica\n",
            "\n",
            ":Summary Statistics:\n",
            "\n",
            "============== ==== ==== ======= ===== ====================\n",
            "                Min  Max   Mean    SD   Class Correlation\n",
            "============== ==== ==== ======= ===== ====================\n",
            "sepal length:   4.3  7.9   5.84   0.83    0.7826\n",
            "sepal width:    2.0  4.4   3.05   0.43   -0.4194\n",
            "petal length:   1.0  6.9   3.76   1.76    0.9490  (high!)\n",
            "petal width:    0.1  2.5   1.20   0.76    0.9565  (high!)\n",
            "============== ==== ==== ======= ===== ====================\n",
            "\n",
            ":Missing Attribute Values: None\n",
            ":Class Distribution: 33.3% for each of 3 classes.\n",
            ":Creator: R.A. Fisher\n",
            ":Donor: Michael Marshall (MARSHALL%PLU@io.arc.nasa.gov)\n",
            ":Date: July, 1988\n",
            "\n",
            "The famous Iris database, first used by Sir R.A. Fisher. The dataset is taken\n",
            "from Fisher's paper. Note that it's the same as in R, but not as in the UCI\n",
            "Machine Learning Repository, which has two wrong data points.\n",
            "\n",
            "This is perhaps the best known database to be found in the\n",
            "pattern recognition literature.  Fisher's paper is a classic in the field and\n",
            "is referenced frequently to this day.  (See Duda & Hart, for example.)  The\n",
            "data set contains 3 classes of 50 instances each, where each class refers to a\n",
            "type of iris plant.  One class is linearly separable from the other 2; the\n",
            "latter are NOT linearly separable from each other.\n",
            "\n",
            ".. dropdown:: References\n",
            "\n",
            "  - Fisher, R.A. \"The use of multiple measurements in taxonomic problems\"\n",
            "    Annual Eugenics, 7, Part II, 179-188 (1936); also in \"Contributions to\n",
            "    Mathematical Statistics\" (John Wiley, NY, 1950).\n",
            "  - Duda, R.O., & Hart, P.E. (1973) Pattern Classification and Scene Analysis.\n",
            "    (Q327.D83) John Wiley & Sons.  ISBN 0-471-22361-1.  See page 218.\n",
            "  - Dasarathy, B.V. (1980) \"Nosing Around the Neighborhood: A New System\n",
            "    Structure and Classification Rule for Recognition in Partially Exposed\n",
            "    Environments\".  IEEE Transactions on Pattern Analysis and Machine\n",
            "    Intelligence, Vol. PAMI-2, No. 1, 67-71.\n",
            "  - Gates, G.W. (1972) \"The Reduced Nearest Neighbor Rule\".  IEEE Transactions\n",
            "    on Information Theory, May 1972, 431-433.\n",
            "  - See also: 1988 MLC Proceedings, 54-64.  Cheeseman et al\"s AUTOCLASS II\n",
            "    conceptual clustering system finds 3 classes in the data.\n",
            "  - Many, many more ...\n",
            "\n",
            "\n",
            "\n",
            "\n",
            "\n",
            "\n",
            "To display First 5 samples\n",
            "   sepal length (cm)  sepal width (cm)  petal length (cm)  petal width (cm)  \\\n",
            "0                5.1               3.5                1.4               0.2   \n",
            "1                4.9               3.0                1.4               0.2   \n",
            "2                4.7               3.2                1.3               0.2   \n",
            "3                4.6               3.1                1.5               0.2   \n",
            "4                5.0               3.6                1.4               0.2   \n",
            "\n",
            "   target target_names  \n",
            "0       0       setosa  \n",
            "1       0       setosa  \n",
            "2       0       setosa  \n",
            "3       0       setosa  \n",
            "4       0       setosa  \n",
            "To display randomply 5 samples\n",
            "     sepal length (cm)  sepal width (cm)  petal length (cm)  petal width (cm)  \\\n",
            "17                 5.1               3.5                1.4               0.3   \n",
            "136                6.3               3.4                5.6               2.4   \n",
            "64                 5.6               2.9                3.6               1.3   \n",
            "149                5.9               3.0                5.1               1.8   \n",
            "95                 5.7               3.0                4.2               1.2   \n",
            "\n",
            "     target target_names  \n",
            "17        0       setosa  \n",
            "136       2    virginica  \n",
            "64        1   versicolor  \n",
            "149       2    virginica  \n",
            "95        1   versicolor  \n",
            "The total number of samples in the dataset =  150\n",
            "The number of samples in training set =  105\n",
            "The number of samples in testing set =  45\n",
            "The first five samples of training set\n",
            "     sepal length (cm)  sepal width (cm)  petal length (cm)  petal width (cm)  \\\n",
            "123                6.3               2.7                4.9               1.8   \n",
            "76                 6.8               2.8                4.8               1.4   \n",
            "109                7.2               3.6                6.1               2.5   \n",
            "35                 5.0               3.2                1.2               0.2   \n",
            "88                 5.6               3.0                4.1               1.3   \n",
            "\n",
            "     target target_names  \n",
            "123       2    virginica  \n",
            "76        1   versicolor  \n",
            "109       2    virginica  \n",
            "35        0       setosa  \n",
            "88        1   versicolor  \n",
            "\n",
            "\n",
            "The first five samples of testing set\n",
            "     sepal length (cm)  sepal width (cm)  petal length (cm)  petal width (cm)  \\\n",
            "16                 5.4               3.9                1.3               0.4   \n",
            "79                 5.7               2.6                3.5               1.0   \n",
            "99                 5.7               2.8                4.1               1.3   \n",
            "149                5.9               3.0                5.1               1.8   \n",
            "2                  4.7               3.2                1.3               0.2   \n",
            "\n",
            "     target target_names  \n",
            "16        0       setosa  \n",
            "79        1   versicolor  \n",
            "99        1   versicolor  \n",
            "149       2    virginica  \n",
            "2         0       setosa  \n"
          ]
        }
      ],
      "source": [
        "from sklearn import datasets\n",
        "import pandas as pd\n",
        "print('THIS IS THE PROGRAM TO ACCESS IRIS DATASET')\n",
        "iris=datasets.load_iris()\n",
        "print(\" To print the description of Iris Dataset\")\n",
        "print(iris.DESCR)\n",
        "print('\\n\\n\\n\\n')\n",
        "# df will fold dataset as a table\n",
        "df=pd.DataFrame(\n",
        "iris.data,\n",
        "columns=iris.feature_names\n",
        ")\n",
        "#labels are assigned to df[target] table or array\n",
        "df['target']=pd.Series(\n",
        "iris.target\n",
        ")\n",
        "df['target_names']=df['target'].apply(lambda y:iris.target_names[y])\n",
        "print('To display First 5 samples')\n",
        "# df.head(5) will return the first five samples in the dataset\n",
        "print(df.head(5))\n",
        "print('To display randomply 5 samples')\n",
        "#df.sample(5) will return randomly five samples from the dataset\n",
        "print(df.sample(5))\n",
        "\n",
        "# Train Test Split Ratio\n",
        "from sklearn.model_selection import train_test_split\n",
        "df_train,df_test=train_test_split(df,test_size=0.3) # For 70: 30 Split\n",
        "print('The total number of samples in the dataset = ',df.shape[0])\n",
        "print('The number of samples in training set = ',df_train.shape[0])\n",
        "print('The number of samples in testing set = ',df_test.shape[0])\n",
        "print('The first five samples of training set')\n",
        "print(df_train.head(5))\n",
        "print('\\n\\nThe first five samples of testing set')\n",
        "print(df_test.head(5))\n"
      ]
    },
    {
      "cell_type": "markdown",
      "source": [
        "**-------------------------Line wise analysis-----------------------------**"
      ],
      "metadata": {
        "id": "R89KDf2EdITc"
      }
    },
    {
      "cell_type": "code",
      "source": [
        "from sklearn import datasets\n",
        "import pandas as pd"
      ],
      "metadata": {
        "id": "yZAvON72dQ0v"
      },
      "execution_count": null,
      "outputs": []
    },
    {
      "cell_type": "markdown",
      "source": [
        "**datasets**: Contains preloaded datasets, including the Iris dataset, from the sklearn library.\n",
        "**pandas**: Used for data manipulation and analysis."
      ],
      "metadata": {
        "id": "OnNG10ikdbm0"
      }
    },
    {
      "cell_type": "code",
      "source": [
        "iris = datasets.load_iris()"
      ],
      "metadata": {
        "id": "jg8Koddxdcyj"
      },
      "execution_count": null,
      "outputs": []
    },
    {
      "cell_type": "markdown",
      "source": [
        "Loads the Iris dataset into the **variable** iris. It includes features, labels, and a description.\n"
      ],
      "metadata": {
        "id": "r3o9BOuudyJQ"
      }
    },
    {
      "cell_type": "code",
      "source": [
        "print(iris.DESCR)           #Displays a detailed description of the dataset, including features, labels, and data distribution.\n",
        "df = pd.DataFrame(iris.data, columns=iris.feature_names)  #Converts the dataset's feature data into a Pandas DataFrame. Each feature (e.g., sepal length) becomes a column."
      ],
      "metadata": {
        "id": "4Z08Dh6ydv4-"
      },
      "execution_count": null,
      "outputs": []
    },
    {
      "cell_type": "code",
      "source": [
        "df['target'] = pd.Series(iris.target)\n",
        "df['target_names'] = df['target'].apply(lambda y: iris.target_names[y])"
      ],
      "metadata": {
        "id": "etA9AnI2dvTL"
      },
      "execution_count": null,
      "outputs": []
    },
    {
      "cell_type": "markdown",
      "source": [
        "**target**: Adds the target column to the DataFrame, representing the species labels (0, 1, 2).\n",
        "**target_names**: Maps numerical targets to their corresponding species names using apply() and iris.target_names."
      ],
      "metadata": {
        "id": "EUTyCAxjdvA6"
      }
    },
    {
      "cell_type": "code",
      "source": [
        "print(df.head(5))       #Displays the first 5 rows of the DataFrame.\n",
        "print(df.sample(5))     #Displays the random 5 rows of the DataFrame."
      ],
      "metadata": {
        "colab": {
          "base_uri": "https://localhost:8080/"
        },
        "id": "Zhar4B27duqB",
        "outputId": "fcd4b6c3-85c0-4063-fd07-b57122bec980"
      },
      "execution_count": null,
      "outputs": [
        {
          "output_type": "stream",
          "name": "stdout",
          "text": [
            "   sepal length (cm)  sepal width (cm)  petal length (cm)  petal width (cm)  \\\n",
            "0                5.1               3.5                1.4               0.2   \n",
            "1                4.9               3.0                1.4               0.2   \n",
            "2                4.7               3.2                1.3               0.2   \n",
            "3                4.6               3.1                1.5               0.2   \n",
            "4                5.0               3.6                1.4               0.2   \n",
            "\n",
            "   target target_names  \n",
            "0       0       setosa  \n",
            "1       0       setosa  \n",
            "2       0       setosa  \n",
            "3       0       setosa  \n",
            "4       0       setosa  \n",
            "     sepal length (cm)  sepal width (cm)  petal length (cm)  petal width (cm)  \\\n",
            "79                 5.7               2.6                3.5               1.0   \n",
            "55                 5.7               2.8                4.5               1.3   \n",
            "105                7.6               3.0                6.6               2.1   \n",
            "4                  5.0               3.6                1.4               0.2   \n",
            "64                 5.6               2.9                3.6               1.3   \n",
            "\n",
            "     target target_names  \n",
            "79        1   versicolor  \n",
            "55        1   versicolor  \n",
            "105       2    virginica  \n",
            "4         0       setosa  \n",
            "64        1   versicolor  \n"
          ]
        }
      ]
    },
    {
      "cell_type": "code",
      "source": [
        "from sklearn.model_selection import train_test_split\n",
        "df_train, df_test = train_test_split(df, test_size=0.3)"
      ],
      "metadata": {
        "id": "dPjVgoo_nPAp"
      },
      "execution_count": null,
      "outputs": []
    },
    {
      "cell_type": "markdown",
      "source": [
        "Splits the DataFrame into training (70%) and testing (30%) subsets using **train_test_split**."
      ],
      "metadata": {
        "id": "y3E0jdLpduXz"
      }
    },
    {
      "cell_type": "code",
      "source": [
        "print('The total number of samples in the dataset = ', df.shape[0])\n",
        "print('The number of samples in training set = ', df_train.shape[0])\n",
        "print('The number of samples in testing set = ', df_test.shape[0])"
      ],
      "metadata": {
        "colab": {
          "base_uri": "https://localhost:8080/"
        },
        "id": "4fhYUKC4duGo",
        "outputId": "35e3136c-e045-4a88-dd99-24f8f6dc609e"
      },
      "execution_count": null,
      "outputs": [
        {
          "output_type": "stream",
          "name": "stdout",
          "text": [
            "The total number of samples in the dataset =  150\n",
            "The number of samples in training set =  105\n",
            "The number of samples in testing set =  45\n"
          ]
        }
      ]
    },
    {
      "cell_type": "markdown",
      "source": [
        "Prints the total number of **samples** and their **split** between training and testing datasets.\n"
      ],
      "metadata": {
        "id": "uw7CKI4Tn1CN"
      }
    },
    {
      "cell_type": "code",
      "source": [
        "print(df_train.head(5))   #Displays the first 5 rows from the training datasets.\n",
        "#print(df_test.head(5))    #Displays the first 5 rows from the testing datasets.\n"
      ],
      "metadata": {
        "colab": {
          "base_uri": "https://localhost:8080/"
        },
        "id": "G5p_-kHpn12R",
        "outputId": "a76d47f2-8e35-4060-878f-aa5e0c75da0e"
      },
      "execution_count": null,
      "outputs": [
        {
          "output_type": "stream",
          "name": "stdout",
          "text": [
            "     sepal length (cm)  sepal width (cm)  petal length (cm)  petal width (cm)  \\\n",
            "20                 5.4               3.4                1.7               0.2   \n",
            "73                 6.1               2.8                4.7               1.2   \n",
            "58                 6.6               2.9                4.6               1.3   \n",
            "96                 5.7               2.9                4.2               1.3   \n",
            "126                6.2               2.8                4.8               1.8   \n",
            "\n",
            "     target target_names  \n",
            "20        0       setosa  \n",
            "73        1   versicolor  \n",
            "58        1   versicolor  \n",
            "96        1   versicolor  \n",
            "126       2    virginica  \n"
          ]
        }
      ]
    },
    {
      "cell_type": "code",
      "source": [
        "print(df_test.head(5))    #Displays the first 5 rows from the testing datasets.\n"
      ],
      "metadata": {
        "colab": {
          "base_uri": "https://localhost:8080/"
        },
        "id": "g1G93wyguS1W",
        "outputId": "f27c2844-e64f-438a-9b07-1b92540b011a"
      },
      "execution_count": null,
      "outputs": [
        {
          "output_type": "stream",
          "name": "stdout",
          "text": [
            "     sepal length (cm)  sepal width (cm)  petal length (cm)  petal width (cm)  \\\n",
            "134                6.1               2.6                5.6               1.4   \n",
            "63                 6.1               2.9                4.7               1.4   \n",
            "27                 5.2               3.5                1.5               0.2   \n",
            "108                6.7               2.5                5.8               1.8   \n",
            "67                 5.8               2.7                4.1               1.0   \n",
            "\n",
            "     target target_names  \n",
            "134       2    virginica  \n",
            "63        1   versicolor  \n",
            "27        0       setosa  \n",
            "108       2    virginica  \n",
            "67        1   versicolor  \n"
          ]
        }
      ]
    },
    {
      "cell_type": "markdown",
      "source": [],
      "metadata": {
        "id": "4-Qo3tB9dtxB"
      }
    }
  ]
}