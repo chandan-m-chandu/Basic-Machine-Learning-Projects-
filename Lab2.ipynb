{
  "nbformat": 4,
  "nbformat_minor": 0,
  "metadata": {
    "colab": {
      "provenance": [],
      "authorship_tag": "ABX9TyP3crHxBdALwhLMQnntM0Tc",
      "include_colab_link": true
    },
    "kernelspec": {
      "name": "python3",
      "display_name": "Python 3"
    },
    "language_info": {
      "name": "python"
    }
  },
  "cells": [
    {
      "cell_type": "markdown",
      "metadata": {
        "id": "view-in-github",
        "colab_type": "text"
      },
      "source": [
        "<a href=\"https://colab.research.google.com/github/chandan-m-chandu/Basic-Machine-Learning-Projects-/blob/main/Lab2.ipynb\" target=\"_parent\"><img src=\"https://colab.research.google.com/assets/colab-badge.svg\" alt=\"Open In Colab\"/></a>"
      ]
    },
    {
      "cell_type": "markdown",
      "source": [
        "Expt 2:\n",
        "1(a) => Aim: To split the dataset into train, validation, and test datasets.\n",
        "(a) Iris dataset\n",
        "(b) digits dataset\n",
        "(c) diabetes dataset\n",
        "\n",
        "2(a) => Program to split the iris dataset into train, validation, and test datasets.\n",
        "In this program, 30 % of the total samples are reserved for testing. Now 70% of data samples are divided in the ratio of 70:30 as training set and validation set."
      ],
      "metadata": {
        "id": "ce1nSxIJdDuT"
      }
    },
    {
      "cell_type": "code",
      "execution_count": null,
      "metadata": {
        "colab": {
          "base_uri": "https://localhost:8080/"
        },
        "id": "U_XUg2DddBzU",
        "outputId": "95465d1c-dfb2-4f46-9325-4813ed69aa85"
      },
      "outputs": [
        {
          "output_type": "stream",
          "name": "stdout",
          "text": [
            "\n",
            "Total No of SAMPLES in dataset =  150\n",
            "\n",
            "Total No of LABELS in dataset =  150\n",
            "\n",
            "Total No of SAMPLES in training set X_train = 73\n",
            "\n",
            "Total No of LABELS in training set y_train 73\n",
            "\n",
            "Total No of SAMPLES in Testing set X_test =  45\n",
            "\n",
            "Total NO of LABLES in testing set y_test =  45\n",
            "\n",
            "Total No of samples in validation set X_test 32\n",
            "\n",
            "Total No of samples in labels in validation set y_test 32\n",
            "\n",
            "The 3 SAMPLES OF TRAINING SET ARE:\n",
            "        0    1    2    3\n",
            "119  6.0  2.2  5.0  1.5\n",
            "49   5.0  3.3  1.4  0.2\n",
            "44   5.1  3.8  1.9  0.4\n",
            "\n",
            "THE RANDOM 3 SAMPLES OF TRAINING ARE:\n",
            "        0    1    2    3\n",
            "112  6.8  3.0  5.5  2.1\n",
            "88   5.6  3.0  4.1  1.3\n",
            "72   6.3  2.5  4.9  1.5\n",
            "\n",
            "The 3 SAMPLES of VALIDATION SET ARE:\n",
            "        0    1    2    3\n",
            "70   5.9  3.2  4.8  1.8\n",
            "28   5.2  3.4  1.4  0.2\n",
            "123  6.3  2.7  4.9  1.8\n",
            "\n",
            "THE RANDOM 3 SAMPLES OF VALIDATIONS ARE:\n",
            "       0    1    2    3\n",
            "96  5.7  2.9  4.2  1.3\n",
            "68  6.2  2.2  4.5  1.5\n",
            "70  5.9  3.2  4.8  1.8\n",
            "\n",
            "The 3 SAMPLES of TESTING SET ARE:\n",
            "        0    1    2    3\n",
            "21   5.1  3.7  1.5  0.4\n",
            "58   6.6  2.9  4.6  1.3\n",
            "132  6.4  2.8  5.6  2.2\n",
            "\n",
            "THE RANDOM 3 SAMPLES OF TESTING ARE:\n",
            "       0    1    2    3\n",
            "60  5.0  2.0  3.5  1.0\n",
            "19  5.1  3.8  1.5  0.3\n",
            "74  6.4  2.9  4.3  1.3\n"
          ]
        }
      ],
      "source": [
        "import pandas as pd\n",
        "from sklearn import datasets\n",
        "from sklearn.model_selection import train_test_split\n",
        "\n",
        "#load the iris dataset\n",
        "iris = datasets.load_iris()\n",
        "df = pd.DataFrame(iris.data)\n",
        "label = pd.DataFrame(iris.target)\n",
        "\n",
        "#Let us split 70% for training & 30% for validation/tesing\n",
        "\n",
        "X_train, X_test, y_train, y_test = train_test_split(df,label, test_size=0.3, shuffle = True)\n",
        "X_train, X_val, y_train, y_val = train_test_split(X_train,y_train,test_size=0.3,shuffle=True)\n",
        "\n",
        "print(\"\\nTotal No of SAMPLES in dataset = \", df.shape[0])\n",
        "print(\"\\nTotal No of LABELS in dataset = \",label.shape[0])\n",
        "print(\"\\nTotal No of SAMPLES in training set X_train =\", X_train.shape[0])\n",
        "print(\"\\nTotal No of LABELS in training set y_train\", y_train.shape[0])\n",
        "print(\"\\nTotal No of SAMPLES in Testing set X_test = \", X_test.shape[0])\n",
        "print(\"\\nTotal NO of LABLES in testing set y_test = \",y_test.shape[0])\n",
        "\n",
        "print(\"\\nTotal No of samples in validation set X_test\", X_val.shape[0])\n",
        "print(\"\\nTotal No of samples in labels in validation set y_test\",y_val.shape[0])\n",
        "\n",
        "print(\"\\nThe 3 SAMPLES OF TRAINING SET ARE:\\n\", X_train.head(3))\n",
        "print(\"\\nTHE RANDOM 3 SAMPLES OF TRAINING ARE:\\n\", X_train.sample(3))\n",
        "\n",
        "print(\"\\nThe 3 SAMPLES of VALIDATION SET ARE:\\n\", X_val.head(3))\n",
        "print(\"\\nTHE RANDOM 3 SAMPLES OF VALIDATIONS ARE:\\n\", X_val.sample(3))\n",
        "\n",
        "print(\"\\nThe 3 SAMPLES of TESTING SET ARE:\\n\", X_test.head(3))\n",
        "print(\"\\nTHE RANDOM 3 SAMPLES OF TESTING ARE:\\n\", X_test.sample(3))\n",
        "\n"
      ]
    },
    {
      "cell_type": "markdown",
      "source": [],
      "metadata": {
        "id": "EYsM1T9xdCt2"
      }
    }
  ]
}